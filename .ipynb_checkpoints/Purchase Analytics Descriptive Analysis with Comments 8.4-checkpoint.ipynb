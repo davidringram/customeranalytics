{
 "cells": [
  {
   "cell_type": "markdown",
   "metadata": {},
   "source": [
    "## ${\\textbf{Libraries}}$"
   ]
  },
  {
   "cell_type": "code",
   "execution_count": 2,
   "metadata": {},
   "outputs": [],
   "source": [
    "import numpy as np\n",
    "import pandas as pd\n",
    "\n",
    "# We import the sk learn modules we'll need to segment our new data. We'll need scaler, pca and k-means.\n",
    "from sklearn.preprocessing import StandardScaler\n",
    "from sklearn.decomposition import PCA\n",
    "from sklearn.cluster import KMeans\n",
    "# We import pickle in order to be able to load our pickled objects.\n",
    "import pickle\n",
    "\n",
    "#We import the necessary libraries for visualization. We set seaborn do be our default.\n",
    "import matplotlib.pyplot as plt\n",
    "import seaborn as sns\n",
    "sns.set()"
   ]
  },
  {
   "cell_type": "markdown",
   "metadata": {},
   "source": [
    "## ${\\textbf{Data Import}}$"
   ]
  },
  {
   "cell_type": "code",
   "execution_count": 3,
   "metadata": {},
   "outputs": [],
   "source": [
    "# Load data. We read the purchase data csv file.\n",
    "df_purchase = pd.read_csv('purchase data.csv')"
   ]
  },
  {
   "cell_type": "markdown",
   "metadata": {},
   "source": [
    "## ${\\textbf{Data Exploration}}$"
   ]
  },
  {
   "cell_type": "code",
   "execution_count": 4,
   "metadata": {},
   "outputs": [
    {
     "data": {
      "text/html": [
       "<div>\n",
       "<style scoped>\n",
       "    .dataframe tbody tr th:only-of-type {\n",
       "        vertical-align: middle;\n",
       "    }\n",
       "\n",
       "    .dataframe tbody tr th {\n",
       "        vertical-align: top;\n",
       "    }\n",
       "\n",
       "    .dataframe thead th {\n",
       "        text-align: right;\n",
       "    }\n",
       "</style>\n",
       "<table border=\"1\" class=\"dataframe\">\n",
       "  <thead>\n",
       "    <tr style=\"text-align: right;\">\n",
       "      <th></th>\n",
       "      <th>ID</th>\n",
       "      <th>Day</th>\n",
       "      <th>Incidence</th>\n",
       "      <th>Brand</th>\n",
       "      <th>Quantity</th>\n",
       "      <th>Last_Inc_Brand</th>\n",
       "      <th>Last_Inc_Quantity</th>\n",
       "      <th>Price_1</th>\n",
       "      <th>Price_2</th>\n",
       "      <th>Price_3</th>\n",
       "      <th>...</th>\n",
       "      <th>Promotion_3</th>\n",
       "      <th>Promotion_4</th>\n",
       "      <th>Promotion_5</th>\n",
       "      <th>Sex</th>\n",
       "      <th>Marital status</th>\n",
       "      <th>Age</th>\n",
       "      <th>Education</th>\n",
       "      <th>Income</th>\n",
       "      <th>Occupation</th>\n",
       "      <th>Settlement size</th>\n",
       "    </tr>\n",
       "  </thead>\n",
       "  <tbody>\n",
       "    <tr>\n",
       "      <th>0</th>\n",
       "      <td>200000001</td>\n",
       "      <td>1</td>\n",
       "      <td>0</td>\n",
       "      <td>0</td>\n",
       "      <td>0</td>\n",
       "      <td>0</td>\n",
       "      <td>0</td>\n",
       "      <td>1.59</td>\n",
       "      <td>1.87</td>\n",
       "      <td>2.01</td>\n",
       "      <td>...</td>\n",
       "      <td>0</td>\n",
       "      <td>0</td>\n",
       "      <td>0</td>\n",
       "      <td>0</td>\n",
       "      <td>0</td>\n",
       "      <td>47</td>\n",
       "      <td>1</td>\n",
       "      <td>110866</td>\n",
       "      <td>1</td>\n",
       "      <td>0</td>\n",
       "    </tr>\n",
       "    <tr>\n",
       "      <th>1</th>\n",
       "      <td>200000001</td>\n",
       "      <td>11</td>\n",
       "      <td>0</td>\n",
       "      <td>0</td>\n",
       "      <td>0</td>\n",
       "      <td>0</td>\n",
       "      <td>0</td>\n",
       "      <td>1.51</td>\n",
       "      <td>1.89</td>\n",
       "      <td>1.99</td>\n",
       "      <td>...</td>\n",
       "      <td>0</td>\n",
       "      <td>0</td>\n",
       "      <td>0</td>\n",
       "      <td>0</td>\n",
       "      <td>0</td>\n",
       "      <td>47</td>\n",
       "      <td>1</td>\n",
       "      <td>110866</td>\n",
       "      <td>1</td>\n",
       "      <td>0</td>\n",
       "    </tr>\n",
       "    <tr>\n",
       "      <th>2</th>\n",
       "      <td>200000001</td>\n",
       "      <td>12</td>\n",
       "      <td>0</td>\n",
       "      <td>0</td>\n",
       "      <td>0</td>\n",
       "      <td>0</td>\n",
       "      <td>0</td>\n",
       "      <td>1.51</td>\n",
       "      <td>1.89</td>\n",
       "      <td>1.99</td>\n",
       "      <td>...</td>\n",
       "      <td>0</td>\n",
       "      <td>0</td>\n",
       "      <td>0</td>\n",
       "      <td>0</td>\n",
       "      <td>0</td>\n",
       "      <td>47</td>\n",
       "      <td>1</td>\n",
       "      <td>110866</td>\n",
       "      <td>1</td>\n",
       "      <td>0</td>\n",
       "    </tr>\n",
       "    <tr>\n",
       "      <th>3</th>\n",
       "      <td>200000001</td>\n",
       "      <td>16</td>\n",
       "      <td>0</td>\n",
       "      <td>0</td>\n",
       "      <td>0</td>\n",
       "      <td>0</td>\n",
       "      <td>0</td>\n",
       "      <td>1.52</td>\n",
       "      <td>1.89</td>\n",
       "      <td>1.98</td>\n",
       "      <td>...</td>\n",
       "      <td>0</td>\n",
       "      <td>0</td>\n",
       "      <td>0</td>\n",
       "      <td>0</td>\n",
       "      <td>0</td>\n",
       "      <td>47</td>\n",
       "      <td>1</td>\n",
       "      <td>110866</td>\n",
       "      <td>1</td>\n",
       "      <td>0</td>\n",
       "    </tr>\n",
       "    <tr>\n",
       "      <th>4</th>\n",
       "      <td>200000001</td>\n",
       "      <td>18</td>\n",
       "      <td>0</td>\n",
       "      <td>0</td>\n",
       "      <td>0</td>\n",
       "      <td>0</td>\n",
       "      <td>0</td>\n",
       "      <td>1.52</td>\n",
       "      <td>1.89</td>\n",
       "      <td>1.99</td>\n",
       "      <td>...</td>\n",
       "      <td>0</td>\n",
       "      <td>0</td>\n",
       "      <td>0</td>\n",
       "      <td>0</td>\n",
       "      <td>0</td>\n",
       "      <td>47</td>\n",
       "      <td>1</td>\n",
       "      <td>110866</td>\n",
       "      <td>1</td>\n",
       "      <td>0</td>\n",
       "    </tr>\n",
       "  </tbody>\n",
       "</table>\n",
       "<p>5 rows × 24 columns</p>\n",
       "</div>"
      ],
      "text/plain": [
       "          ID  Day  Incidence  Brand  Quantity  Last_Inc_Brand  \\\n",
       "0  200000001    1          0      0         0               0   \n",
       "1  200000001   11          0      0         0               0   \n",
       "2  200000001   12          0      0         0               0   \n",
       "3  200000001   16          0      0         0               0   \n",
       "4  200000001   18          0      0         0               0   \n",
       "\n",
       "   Last_Inc_Quantity  Price_1  Price_2  Price_3  ...  Promotion_3  \\\n",
       "0                  0     1.59     1.87     2.01  ...            0   \n",
       "1                  0     1.51     1.89     1.99  ...            0   \n",
       "2                  0     1.51     1.89     1.99  ...            0   \n",
       "3                  0     1.52     1.89     1.98  ...            0   \n",
       "4                  0     1.52     1.89     1.99  ...            0   \n",
       "\n",
       "   Promotion_4  Promotion_5  Sex  Marital status  Age  Education  Income  \\\n",
       "0            0            0    0               0   47          1  110866   \n",
       "1            0            0    0               0   47          1  110866   \n",
       "2            0            0    0               0   47          1  110866   \n",
       "3            0            0    0               0   47          1  110866   \n",
       "4            0            0    0               0   47          1  110866   \n",
       "\n",
       "   Occupation  Settlement size  \n",
       "0           1                0  \n",
       "1           1                0  \n",
       "2           1                0  \n",
       "3           1                0  \n",
       "4           1                0  \n",
       "\n",
       "[5 rows x 24 columns]"
      ]
     },
     "execution_count": 4,
     "metadata": {},
     "output_type": "execute_result"
    }
   ],
   "source": [
    "# We use the head method on our data and check for missing values.\n",
    "df_purchase.head()"
   ]
  },
  {
   "cell_type": "code",
   "execution_count": 5,
   "metadata": {},
   "outputs": [
    {
     "data": {
      "text/plain": [
       "ID                   0\n",
       "Day                  0\n",
       "Incidence            0\n",
       "Brand                0\n",
       "Quantity             0\n",
       "Last_Inc_Brand       0\n",
       "Last_Inc_Quantity    0\n",
       "Price_1              0\n",
       "Price_2              0\n",
       "Price_3              0\n",
       "Price_4              0\n",
       "Price_5              0\n",
       "Promotion_1          0\n",
       "Promotion_2          0\n",
       "Promotion_3          0\n",
       "Promotion_4          0\n",
       "Promotion_5          0\n",
       "Sex                  0\n",
       "Marital status       0\n",
       "Age                  0\n",
       "Education            0\n",
       "Income               0\n",
       "Occupation           0\n",
       "Settlement size      0\n",
       "dtype: int64"
      ]
     },
     "execution_count": 5,
     "metadata": {},
     "output_type": "execute_result"
    }
   ],
   "source": [
    "df_purchase.isnull().sum()"
   ]
  },
  {
   "cell_type": "markdown",
   "metadata": {},
   "source": [
    "## ${\\textbf{Data Segmentation}}$"
   ]
  },
  {
   "cell_type": "markdown",
   "metadata": {},
   "source": [
    "### ${\\textbf{Import Segmentation Model}}$"
   ]
  },
  {
   "cell_type": "code",
   "execution_count": 6,
   "metadata": {},
   "outputs": [],
   "source": [
    "# We load our pickled objects in order to segment the purchase data set.\n",
    "scaler = pickle.load(open('scaler.pickle', 'rb'))"
   ]
  },
  {
   "cell_type": "code",
   "execution_count": 7,
   "metadata": {},
   "outputs": [],
   "source": [
    "pca = pickle.load(open('pca.pickle', 'rb'))"
   ]
  },
  {
   "cell_type": "code",
   "execution_count": 8,
   "metadata": {},
   "outputs": [],
   "source": [
    "kmeans_pca = pickle.load(open('kmeans_pca.pickle', 'rb'))"
   ]
  },
  {
   "cell_type": "markdown",
   "metadata": {},
   "source": [
    "### ${\\textbf{Standardization}}$"
   ]
  },
  {
   "cell_type": "code",
   "execution_count": 9,
   "metadata": {},
   "outputs": [],
   "source": [
    "# We standardize the purchase data in the same way we did the segmentation data, using the standard scaler.\n",
    "features = df_purchase[['Sex', 'Marital status', 'Age', 'Education', 'Income', 'Occupation', 'Settlement size']]\n",
    "df_purchase_segm_std = scaler.transform(features)"
   ]
  },
  {
   "cell_type": "markdown",
   "metadata": {},
   "source": [
    "### ${\\textbf{PCA}}$"
   ]
  },
  {
   "cell_type": "code",
   "execution_count": 10,
   "metadata": {},
   "outputs": [],
   "source": [
    "# We apply pca on the purchase data and obtain 3 principal components for each row in the table. \n",
    "df_purchase_segm_pca = pca.transform(df_purchase_segm_std)"
   ]
  },
  {
   "cell_type": "markdown",
   "metadata": {},
   "source": [
    "### ${\\textbf{K-means PCA}}$"
   ]
  },
  {
   "cell_type": "code",
   "execution_count": 11,
   "metadata": {},
   "outputs": [],
   "source": [
    "# Based on the principal components, we use the predict method from pca to segment the purchase data into the four segments.\n",
    "purchase_segm_kmeans_pca = kmeans_pca.predict(df_purchase_segm_pca)"
   ]
  },
  {
   "cell_type": "code",
   "execution_count": 12,
   "metadata": {},
   "outputs": [],
   "source": [
    "# Copy resulting data frame as a purchase predictors data frame. \n",
    "# We'll be changing the predictors data frame, by adding and changing columns.\n",
    "# Therefore, we want to keep an original copy.\n",
    "df_purchase_predictors = df_purchase.copy()"
   ]
  },
  {
   "cell_type": "code",
   "execution_count": 13,
   "metadata": {},
   "outputs": [],
   "source": [
    "# Add segment information as a new column in our predictors data frame.\n",
    "df_purchase_predictors['Segment'] = purchase_segm_kmeans_pca"
   ]
  },
  {
   "cell_type": "markdown",
   "metadata": {},
   "source": [
    "## ${\\textbf{Descriptive Analysis by Segments}}$"
   ]
  },
  {
   "cell_type": "markdown",
   "metadata": {},
   "source": [
    "### ${\\textbf{Data Analysis by Customer}}$"
   ]
  },
  {
   "cell_type": "code",
   "execution_count": 14,
   "metadata": {},
   "outputs": [
    {
     "data": {
      "text/html": [
       "<div>\n",
       "<style scoped>\n",
       "    .dataframe tbody tr th:only-of-type {\n",
       "        vertical-align: middle;\n",
       "    }\n",
       "\n",
       "    .dataframe tbody tr th {\n",
       "        vertical-align: top;\n",
       "    }\n",
       "\n",
       "    .dataframe thead th {\n",
       "        text-align: right;\n",
       "    }\n",
       "</style>\n",
       "<table border=\"1\" class=\"dataframe\">\n",
       "  <thead>\n",
       "    <tr style=\"text-align: right;\">\n",
       "      <th></th>\n",
       "      <th>ID</th>\n",
       "      <th>Day</th>\n",
       "      <th>Incidence</th>\n",
       "      <th>Brand</th>\n",
       "      <th>Quantity</th>\n",
       "      <th>Last_Inc_Brand</th>\n",
       "      <th>Last_Inc_Quantity</th>\n",
       "      <th>Price_1</th>\n",
       "      <th>Price_2</th>\n",
       "      <th>Price_3</th>\n",
       "      <th>...</th>\n",
       "      <th>Promotion_4</th>\n",
       "      <th>Promotion_5</th>\n",
       "      <th>Sex</th>\n",
       "      <th>Marital status</th>\n",
       "      <th>Age</th>\n",
       "      <th>Education</th>\n",
       "      <th>Income</th>\n",
       "      <th>Occupation</th>\n",
       "      <th>Settlement size</th>\n",
       "      <th>Segment</th>\n",
       "    </tr>\n",
       "  </thead>\n",
       "  <tbody>\n",
       "    <tr>\n",
       "      <th>0</th>\n",
       "      <td>200000001</td>\n",
       "      <td>1</td>\n",
       "      <td>0</td>\n",
       "      <td>0</td>\n",
       "      <td>0</td>\n",
       "      <td>0</td>\n",
       "      <td>0</td>\n",
       "      <td>1.59</td>\n",
       "      <td>1.87</td>\n",
       "      <td>2.01</td>\n",
       "      <td>...</td>\n",
       "      <td>0</td>\n",
       "      <td>0</td>\n",
       "      <td>0</td>\n",
       "      <td>0</td>\n",
       "      <td>47</td>\n",
       "      <td>1</td>\n",
       "      <td>110866</td>\n",
       "      <td>1</td>\n",
       "      <td>0</td>\n",
       "      <td>2</td>\n",
       "    </tr>\n",
       "    <tr>\n",
       "      <th>1</th>\n",
       "      <td>200000001</td>\n",
       "      <td>11</td>\n",
       "      <td>0</td>\n",
       "      <td>0</td>\n",
       "      <td>0</td>\n",
       "      <td>0</td>\n",
       "      <td>0</td>\n",
       "      <td>1.51</td>\n",
       "      <td>1.89</td>\n",
       "      <td>1.99</td>\n",
       "      <td>...</td>\n",
       "      <td>0</td>\n",
       "      <td>0</td>\n",
       "      <td>0</td>\n",
       "      <td>0</td>\n",
       "      <td>47</td>\n",
       "      <td>1</td>\n",
       "      <td>110866</td>\n",
       "      <td>1</td>\n",
       "      <td>0</td>\n",
       "      <td>2</td>\n",
       "    </tr>\n",
       "    <tr>\n",
       "      <th>2</th>\n",
       "      <td>200000001</td>\n",
       "      <td>12</td>\n",
       "      <td>0</td>\n",
       "      <td>0</td>\n",
       "      <td>0</td>\n",
       "      <td>0</td>\n",
       "      <td>0</td>\n",
       "      <td>1.51</td>\n",
       "      <td>1.89</td>\n",
       "      <td>1.99</td>\n",
       "      <td>...</td>\n",
       "      <td>0</td>\n",
       "      <td>0</td>\n",
       "      <td>0</td>\n",
       "      <td>0</td>\n",
       "      <td>47</td>\n",
       "      <td>1</td>\n",
       "      <td>110866</td>\n",
       "      <td>1</td>\n",
       "      <td>0</td>\n",
       "      <td>2</td>\n",
       "    </tr>\n",
       "    <tr>\n",
       "      <th>3</th>\n",
       "      <td>200000001</td>\n",
       "      <td>16</td>\n",
       "      <td>0</td>\n",
       "      <td>0</td>\n",
       "      <td>0</td>\n",
       "      <td>0</td>\n",
       "      <td>0</td>\n",
       "      <td>1.52</td>\n",
       "      <td>1.89</td>\n",
       "      <td>1.98</td>\n",
       "      <td>...</td>\n",
       "      <td>0</td>\n",
       "      <td>0</td>\n",
       "      <td>0</td>\n",
       "      <td>0</td>\n",
       "      <td>47</td>\n",
       "      <td>1</td>\n",
       "      <td>110866</td>\n",
       "      <td>1</td>\n",
       "      <td>0</td>\n",
       "      <td>2</td>\n",
       "    </tr>\n",
       "    <tr>\n",
       "      <th>4</th>\n",
       "      <td>200000001</td>\n",
       "      <td>18</td>\n",
       "      <td>0</td>\n",
       "      <td>0</td>\n",
       "      <td>0</td>\n",
       "      <td>0</td>\n",
       "      <td>0</td>\n",
       "      <td>1.52</td>\n",
       "      <td>1.89</td>\n",
       "      <td>1.99</td>\n",
       "      <td>...</td>\n",
       "      <td>0</td>\n",
       "      <td>0</td>\n",
       "      <td>0</td>\n",
       "      <td>0</td>\n",
       "      <td>47</td>\n",
       "      <td>1</td>\n",
       "      <td>110866</td>\n",
       "      <td>1</td>\n",
       "      <td>0</td>\n",
       "      <td>2</td>\n",
       "    </tr>\n",
       "  </tbody>\n",
       "</table>\n",
       "<p>5 rows × 25 columns</p>\n",
       "</div>"
      ],
      "text/plain": [
       "          ID  Day  Incidence  Brand  Quantity  Last_Inc_Brand  \\\n",
       "0  200000001    1          0      0         0               0   \n",
       "1  200000001   11          0      0         0               0   \n",
       "2  200000001   12          0      0         0               0   \n",
       "3  200000001   16          0      0         0               0   \n",
       "4  200000001   18          0      0         0               0   \n",
       "\n",
       "   Last_Inc_Quantity  Price_1  Price_2  Price_3  ...  Promotion_4  \\\n",
       "0                  0     1.59     1.87     2.01  ...            0   \n",
       "1                  0     1.51     1.89     1.99  ...            0   \n",
       "2                  0     1.51     1.89     1.99  ...            0   \n",
       "3                  0     1.52     1.89     1.98  ...            0   \n",
       "4                  0     1.52     1.89     1.99  ...            0   \n",
       "\n",
       "   Promotion_5  Sex  Marital status  Age  Education  Income  Occupation  \\\n",
       "0            0    0               0   47          1  110866           1   \n",
       "1            0    0               0   47          1  110866           1   \n",
       "2            0    0               0   47          1  110866           1   \n",
       "3            0    0               0   47          1  110866           1   \n",
       "4            0    0               0   47          1  110866           1   \n",
       "\n",
       "   Settlement size  Segment  \n",
       "0                0        2  \n",
       "1                0        2  \n",
       "2                0        2  \n",
       "3                0        2  \n",
       "4                0        2  \n",
       "\n",
       "[5 rows x 25 columns]"
      ]
     },
     "execution_count": 14,
     "metadata": {},
     "output_type": "execute_result"
    }
   ],
   "source": [
    "df_purchase_predictors.head()"
   ]
  },
  {
   "cell_type": "code",
   "execution_count": 15,
   "metadata": {},
   "outputs": [
    {
     "data": {
      "text/html": [
       "<div>\n",
       "<style scoped>\n",
       "    .dataframe tbody tr th:only-of-type {\n",
       "        vertical-align: middle;\n",
       "    }\n",
       "\n",
       "    .dataframe tbody tr th {\n",
       "        vertical-align: top;\n",
       "    }\n",
       "\n",
       "    .dataframe thead th {\n",
       "        text-align: right;\n",
       "    }\n",
       "</style>\n",
       "<table border=\"1\" class=\"dataframe\">\n",
       "  <thead>\n",
       "    <tr style=\"text-align: right;\">\n",
       "      <th></th>\n",
       "      <th>N_Visits</th>\n",
       "    </tr>\n",
       "    <tr>\n",
       "      <th>ID</th>\n",
       "      <th></th>\n",
       "    </tr>\n",
       "  </thead>\n",
       "  <tbody>\n",
       "    <tr>\n",
       "      <th>200000001</th>\n",
       "      <td>101</td>\n",
       "    </tr>\n",
       "    <tr>\n",
       "      <th>200000002</th>\n",
       "      <td>87</td>\n",
       "    </tr>\n",
       "    <tr>\n",
       "      <th>200000003</th>\n",
       "      <td>97</td>\n",
       "    </tr>\n",
       "    <tr>\n",
       "      <th>200000004</th>\n",
       "      <td>85</td>\n",
       "    </tr>\n",
       "    <tr>\n",
       "      <th>200000005</th>\n",
       "      <td>111</td>\n",
       "    </tr>\n",
       "  </tbody>\n",
       "</table>\n",
       "</div>"
      ],
      "text/plain": [
       "           N_Visits\n",
       "ID                 \n",
       "200000001       101\n",
       "200000002        87\n",
       "200000003        97\n",
       "200000004        85\n",
       "200000005       111"
      ]
     },
     "execution_count": 15,
     "metadata": {},
     "output_type": "execute_result"
    }
   ],
   "source": [
    "# Purchase occasions by customer ID\n",
    "temp1 = df_purchase_predictors[['ID', 'Incidence']].groupby(['ID'], as_index = False).count()\n",
    "temp1 = temp1.set_index('ID')\n",
    "temp1 = temp1.rename(columns = {'Incidence': 'N_Visits'})\n",
    "temp1.head()"
   ]
  },
  {
   "cell_type": "code",
   "execution_count": 16,
   "metadata": {},
   "outputs": [
    {
     "data": {
      "text/html": [
       "<div>\n",
       "<style scoped>\n",
       "    .dataframe tbody tr th:only-of-type {\n",
       "        vertical-align: middle;\n",
       "    }\n",
       "\n",
       "    .dataframe tbody tr th {\n",
       "        vertical-align: top;\n",
       "    }\n",
       "\n",
       "    .dataframe thead th {\n",
       "        text-align: right;\n",
       "    }\n",
       "</style>\n",
       "<table border=\"1\" class=\"dataframe\">\n",
       "  <thead>\n",
       "    <tr style=\"text-align: right;\">\n",
       "      <th></th>\n",
       "      <th>N_Visits</th>\n",
       "      <th>N_Purchases</th>\n",
       "    </tr>\n",
       "    <tr>\n",
       "      <th>ID</th>\n",
       "      <th></th>\n",
       "      <th></th>\n",
       "    </tr>\n",
       "  </thead>\n",
       "  <tbody>\n",
       "    <tr>\n",
       "      <th>200000001</th>\n",
       "      <td>101</td>\n",
       "      <td>9</td>\n",
       "    </tr>\n",
       "    <tr>\n",
       "      <th>200000002</th>\n",
       "      <td>87</td>\n",
       "      <td>11</td>\n",
       "    </tr>\n",
       "    <tr>\n",
       "      <th>200000003</th>\n",
       "      <td>97</td>\n",
       "      <td>10</td>\n",
       "    </tr>\n",
       "    <tr>\n",
       "      <th>200000004</th>\n",
       "      <td>85</td>\n",
       "      <td>11</td>\n",
       "    </tr>\n",
       "    <tr>\n",
       "      <th>200000005</th>\n",
       "      <td>111</td>\n",
       "      <td>13</td>\n",
       "    </tr>\n",
       "  </tbody>\n",
       "</table>\n",
       "</div>"
      ],
      "text/plain": [
       "           N_Visits  N_Purchases\n",
       "ID                              \n",
       "200000001       101            9\n",
       "200000002        87           11\n",
       "200000003        97           10\n",
       "200000004        85           11\n",
       "200000005       111           13"
      ]
     },
     "execution_count": 16,
     "metadata": {},
     "output_type": "execute_result"
    }
   ],
   "source": [
    "# Number of purchases per customer ID\n",
    "temp2 = df_purchase_predictors[['ID', 'Incidence']].groupby(['ID'], as_index = False).sum()\n",
    "temp2 = temp2.set_index('ID')\n",
    "temp2 = temp2.rename(columns = {'Incidence': 'N_Purchases'})\n",
    "temp3 = temp1.join(temp2)\n",
    "temp3.head()"
   ]
  },
  {
   "cell_type": "code",
   "execution_count": 17,
   "metadata": {},
   "outputs": [
    {
     "data": {
      "text/html": [
       "<div>\n",
       "<style scoped>\n",
       "    .dataframe tbody tr th:only-of-type {\n",
       "        vertical-align: middle;\n",
       "    }\n",
       "\n",
       "    .dataframe tbody tr th {\n",
       "        vertical-align: top;\n",
       "    }\n",
       "\n",
       "    .dataframe thead th {\n",
       "        text-align: right;\n",
       "    }\n",
       "</style>\n",
       "<table border=\"1\" class=\"dataframe\">\n",
       "  <thead>\n",
       "    <tr style=\"text-align: right;\">\n",
       "      <th></th>\n",
       "      <th>N_Visits</th>\n",
       "      <th>N_Purchases</th>\n",
       "      <th>Average_N_Purchases</th>\n",
       "    </tr>\n",
       "    <tr>\n",
       "      <th>ID</th>\n",
       "      <th></th>\n",
       "      <th></th>\n",
       "      <th></th>\n",
       "    </tr>\n",
       "  </thead>\n",
       "  <tbody>\n",
       "    <tr>\n",
       "      <th>200000001</th>\n",
       "      <td>101</td>\n",
       "      <td>9</td>\n",
       "      <td>0.089109</td>\n",
       "    </tr>\n",
       "    <tr>\n",
       "      <th>200000002</th>\n",
       "      <td>87</td>\n",
       "      <td>11</td>\n",
       "      <td>0.126437</td>\n",
       "    </tr>\n",
       "    <tr>\n",
       "      <th>200000003</th>\n",
       "      <td>97</td>\n",
       "      <td>10</td>\n",
       "      <td>0.103093</td>\n",
       "    </tr>\n",
       "    <tr>\n",
       "      <th>200000004</th>\n",
       "      <td>85</td>\n",
       "      <td>11</td>\n",
       "      <td>0.129412</td>\n",
       "    </tr>\n",
       "    <tr>\n",
       "      <th>200000005</th>\n",
       "      <td>111</td>\n",
       "      <td>13</td>\n",
       "      <td>0.117117</td>\n",
       "    </tr>\n",
       "  </tbody>\n",
       "</table>\n",
       "</div>"
      ],
      "text/plain": [
       "           N_Visits  N_Purchases  Average_N_Purchases\n",
       "ID                                                   \n",
       "200000001       101            9             0.089109\n",
       "200000002        87           11             0.126437\n",
       "200000003        97           10             0.103093\n",
       "200000004        85           11             0.129412\n",
       "200000005       111           13             0.117117"
      ]
     },
     "execution_count": 17,
     "metadata": {},
     "output_type": "execute_result"
    }
   ],
   "source": [
    "# Average number of purchases by customer ID\n",
    "temp3['Average_N_Purchases'] = temp3['N_Purchases'] / temp3['N_Visits']\n",
    "temp3.head()"
   ]
  },
  {
   "cell_type": "code",
   "execution_count": 18,
   "metadata": {},
   "outputs": [],
   "source": [
    "# We obtain the segment for each customer in the data set.\n",
    "temp4 = df_purchase_predictors[['ID', 'Segment']].groupby(['ID'], as_index = False).mean()\n",
    "temp4 = temp4.set_index('ID')\n",
    "df_purchase_descr = temp3.join(temp4)"
   ]
  },
  {
   "cell_type": "code",
   "execution_count": 19,
   "metadata": {},
   "outputs": [
    {
     "data": {
      "text/html": [
       "<div>\n",
       "<style scoped>\n",
       "    .dataframe tbody tr th:only-of-type {\n",
       "        vertical-align: middle;\n",
       "    }\n",
       "\n",
       "    .dataframe tbody tr th {\n",
       "        vertical-align: top;\n",
       "    }\n",
       "\n",
       "    .dataframe thead th {\n",
       "        text-align: right;\n",
       "    }\n",
       "</style>\n",
       "<table border=\"1\" class=\"dataframe\">\n",
       "  <thead>\n",
       "    <tr style=\"text-align: right;\">\n",
       "      <th></th>\n",
       "      <th>N_Visits</th>\n",
       "      <th>N_Purchases</th>\n",
       "      <th>Average_N_Purchases</th>\n",
       "      <th>Segment</th>\n",
       "    </tr>\n",
       "    <tr>\n",
       "      <th>ID</th>\n",
       "      <th></th>\n",
       "      <th></th>\n",
       "      <th></th>\n",
       "      <th></th>\n",
       "    </tr>\n",
       "  </thead>\n",
       "  <tbody>\n",
       "    <tr>\n",
       "      <th>200000001</th>\n",
       "      <td>101</td>\n",
       "      <td>9</td>\n",
       "      <td>0.089109</td>\n",
       "      <td>2</td>\n",
       "    </tr>\n",
       "    <tr>\n",
       "      <th>200000002</th>\n",
       "      <td>87</td>\n",
       "      <td>11</td>\n",
       "      <td>0.126437</td>\n",
       "      <td>3</td>\n",
       "    </tr>\n",
       "    <tr>\n",
       "      <th>200000003</th>\n",
       "      <td>97</td>\n",
       "      <td>10</td>\n",
       "      <td>0.103093</td>\n",
       "      <td>2</td>\n",
       "    </tr>\n",
       "    <tr>\n",
       "      <th>200000004</th>\n",
       "      <td>85</td>\n",
       "      <td>11</td>\n",
       "      <td>0.129412</td>\n",
       "      <td>2</td>\n",
       "    </tr>\n",
       "    <tr>\n",
       "      <th>200000005</th>\n",
       "      <td>111</td>\n",
       "      <td>13</td>\n",
       "      <td>0.117117</td>\n",
       "      <td>1</td>\n",
       "    </tr>\n",
       "  </tbody>\n",
       "</table>\n",
       "</div>"
      ],
      "text/plain": [
       "           N_Visits  N_Purchases  Average_N_Purchases  Segment\n",
       "ID                                                            \n",
       "200000001       101            9             0.089109        2\n",
       "200000002        87           11             0.126437        3\n",
       "200000003        97           10             0.103093        2\n",
       "200000004        85           11             0.129412        2\n",
       "200000005       111           13             0.117117        1"
      ]
     },
     "execution_count": 19,
     "metadata": {},
     "output_type": "execute_result"
    }
   ],
   "source": [
    "df_purchase_descr.head()"
   ]
  },
  {
   "cell_type": "markdown",
   "metadata": {},
   "source": [
    "### ${\\textbf{Segment Proportions}}$"
   ]
  },
  {
   "cell_type": "code",
   "execution_count": 20,
   "metadata": {},
   "outputs": [
    {
     "data": {
      "text/html": [
       "<div>\n",
       "<style scoped>\n",
       "    .dataframe tbody tr th:only-of-type {\n",
       "        vertical-align: middle;\n",
       "    }\n",
       "\n",
       "    .dataframe tbody tr th {\n",
       "        vertical-align: top;\n",
       "    }\n",
       "\n",
       "    .dataframe thead th {\n",
       "        text-align: right;\n",
       "    }\n",
       "</style>\n",
       "<table border=\"1\" class=\"dataframe\">\n",
       "  <thead>\n",
       "    <tr style=\"text-align: right;\">\n",
       "      <th></th>\n",
       "      <th>Segment Proportions</th>\n",
       "    </tr>\n",
       "    <tr>\n",
       "      <th>Segment</th>\n",
       "      <th></th>\n",
       "    </tr>\n",
       "  </thead>\n",
       "  <tbody>\n",
       "    <tr>\n",
       "      <th>0</th>\n",
       "      <td>0.206</td>\n",
       "    </tr>\n",
       "    <tr>\n",
       "      <th>1</th>\n",
       "      <td>0.220</td>\n",
       "    </tr>\n",
       "    <tr>\n",
       "      <th>2</th>\n",
       "      <td>0.378</td>\n",
       "    </tr>\n",
       "    <tr>\n",
       "      <th>3</th>\n",
       "      <td>0.196</td>\n",
       "    </tr>\n",
       "  </tbody>\n",
       "</table>\n",
       "</div>"
      ],
      "text/plain": [
       "         Segment Proportions\n",
       "Segment                     \n",
       "0                      0.206\n",
       "1                      0.220\n",
       "2                      0.378\n",
       "3                      0.196"
      ]
     },
     "execution_count": 20,
     "metadata": {},
     "output_type": "execute_result"
    }
   ],
   "source": [
    "# We calculate the proportions of each segment and set the appropriate column name. \n",
    "segm_prop = df_purchase_descr[['N_Purchases', 'Segment']].groupby(['Segment']).count() / df_purchase_descr.shape[0]\n",
    "segm_prop = segm_prop.rename(columns = {'N_Purchases': 'Segment Proportions'})\n",
    "segm_prop.head()"
   ]
  },
  {
   "cell_type": "code",
   "execution_count": 21,
   "metadata": {},
   "outputs": [
    {
     "data": {
      "text/plain": [
       "Text(0.5, 1.0, 'Segment Proportions')"
      ]
     },
     "execution_count": 21,
     "metadata": {},
     "output_type": "execute_result"
    },
    {
     "data": {
      "image/png": "[encoded data removed]",
      "text/plain": [
       "<Figure size 648x432 with 1 Axes>"
      ]
     },
     "metadata": {},
     "output_type": "display_data"
    }
   ],
   "source": [
    "# We plot the segment proportions as a pie chart. \n",
    "# We can easily see which is the largest segment and the relative sizes of each segment.\n",
    "plt.figure(figsize = (9, 6))\n",
    "plt.pie(segm_prop['Segment Proportions'],\n",
    "        labels = ['Standard', 'Career-Focused', 'Fewer-Opportunities', 'Well-Off'],\n",
    "        autopct = '%1.1f%%', \n",
    "        colors = ('b', 'g', 'r', 'orange'))\n",
    "plt.title('Segment Proportions')"
   ]
  },
  {
   "cell_type": "markdown",
   "metadata": {},
   "source": [
    "### ${\\textbf{Purchase Occasion and Purchase Incidence}}$"
   ]
  },
  {
   "cell_type": "code",
   "execution_count": 22,
   "metadata": {},
   "outputs": [
    {
     "data": {
      "text/html": [
       "<div>\n",
       "<style scoped>\n",
       "    .dataframe tbody tr th:only-of-type {\n",
       "        vertical-align: middle;\n",
       "    }\n",
       "\n",
       "    .dataframe tbody tr th {\n",
       "        vertical-align: top;\n",
       "    }\n",
       "\n",
       "    .dataframe thead th {\n",
       "        text-align: right;\n",
       "    }\n",
       "</style>\n",
       "<table border=\"1\" class=\"dataframe\">\n",
       "  <thead>\n",
       "    <tr style=\"text-align: right;\">\n",
       "      <th></th>\n",
       "      <th>N_Visits</th>\n",
       "      <th>N_Purchases</th>\n",
       "      <th>Average_N_Purchases</th>\n",
       "    </tr>\n",
       "    <tr>\n",
       "      <th>Segment</th>\n",
       "      <th></th>\n",
       "      <th></th>\n",
       "      <th></th>\n",
       "    </tr>\n",
       "  </thead>\n",
       "  <tbody>\n",
       "    <tr>\n",
       "      <th>0</th>\n",
       "      <td>117.699029</td>\n",
       "      <td>24.902913</td>\n",
       "      <td>0.212773</td>\n",
       "    </tr>\n",
       "    <tr>\n",
       "      <th>1</th>\n",
       "      <td>123.454545</td>\n",
       "      <td>39.827273</td>\n",
       "      <td>0.283102</td>\n",
       "    </tr>\n",
       "    <tr>\n",
       "      <th>2</th>\n",
       "      <td>113.730159</td>\n",
       "      <td>22.756614</td>\n",
       "      <td>0.201588</td>\n",
       "    </tr>\n",
       "    <tr>\n",
       "      <th>3</th>\n",
       "      <td>117.295918</td>\n",
       "      <td>34.602041</td>\n",
       "      <td>0.284478</td>\n",
       "    </tr>\n",
       "  </tbody>\n",
       "</table>\n",
       "</div>"
      ],
      "text/plain": [
       "           N_Visits  N_Purchases  Average_N_Purchases\n",
       "Segment                                              \n",
       "0        117.699029    24.902913             0.212773\n",
       "1        123.454545    39.827273             0.283102\n",
       "2        113.730159    22.756614             0.201588\n",
       "3        117.295918    34.602041             0.284478"
      ]
     },
     "execution_count": 22,
     "metadata": {},
     "output_type": "execute_result"
    }
   ],
   "source": [
    "# We calculate the mean by the four segments. It will help us determine the average customer behaivour in each segment.\n",
    "segments_mean = df_purchase_descr.groupby(['Segment']).mean()\n",
    "segments_mean"
   ]
  },
  {
   "cell_type": "code",
   "execution_count": 23,
   "metadata": {},
   "outputs": [],
   "source": [
    "# We calculate the standard deviation by segments. It will help us determine how homogoneus each of the segments is.\n",
    "segments_std = df_purchase_descr.groupby(['Segment']).std()"
   ]
  },
  {
   "cell_type": "code",
   "execution_count": 24,
   "metadata": {},
   "outputs": [
    {
     "data": {
      "text/plain": [
       "Text(0.5, 1.0, 'Average Number of Store Visits by Segment')"
      ]
     },
     "execution_count": 24,
     "metadata": {},
     "output_type": "execute_result"
    },
    {
     "data": {
      "image/png": "[encoded data removed]",
      "text/plain": [
       "<Figure size 648x432 with 1 Axes>"
      ]
     },
     "metadata": {},
     "output_type": "display_data"
    }
   ],
   "source": [
    "# We plot the average number of store visits for each of the four segments using a bar chart.\n",
    "# We display the standard deviation as a straight line. The bigger the length, the higher the standard deviation is.\n",
    "plt.figure(figsize = (9, 6))\n",
    "plt.bar(x = (0, 1, 2, 3),\n",
    "        tick_label = ('Standard', 'Career-Focused', 'Fewer-Opportunities', 'Well-Off'), \n",
    "        height = segments_mean['N_Visits'],\n",
    "        yerr = segments_std['N_Visits'],\n",
    "        color = ('b', 'g', 'r', 'orange'))\n",
    "plt.xlabel('Segment')\n",
    "plt.ylabel('Number of Store Visits')\n",
    "plt.title('Average Number of Store Visits by Segment')"
   ]
  },
  {
   "cell_type": "code",
   "execution_count": 25,
   "metadata": {},
   "outputs": [
    {
     "data": {
      "text/plain": [
       "Text(0.5, 1.0, 'Number of Purchases by Segment')"
      ]
     },
     "execution_count": 25,
     "metadata": {},
     "output_type": "execute_result"
    },
    {
     "data": {
      "image/png": "[encoded data removed]",
      "text/plain": [
       "<Figure size 648x432 with 1 Axes>"
      ]
     },
     "metadata": {},
     "output_type": "display_data"
    }
   ],
   "source": [
    "# We display the average number of purchases by segments. \n",
    "# They will help us understand how often each group buys chocholate candy bars.\n",
    "plt.figure(figsize = (9, 6))\n",
    "plt.bar(x = (0, 1, 2, 3),\n",
    "        tick_label = ('Standard', 'Career-Focused', 'Fewer-Opportunities', 'Well-Off'), \n",
    "        height = segments_mean['N_Purchases'],\n",
    "        yerr = segments_std['N_Purchases'],\n",
    "        color = ('b', 'g', 'r', 'orange'))\n",
    "plt.xlabel('Segment')\n",
    "plt.ylabel('Purchase Incidences')\n",
    "plt.title('Number of Purchases by Segment')"
   ]
  },
  {
   "cell_type": "code",
   "execution_count": 26,
   "metadata": {},
   "outputs": [
    {
     "data": {
      "text/plain": [
       "Text(0.5, 1.0, 'Average Number of Purchases by Segment')"
      ]
     },
     "execution_count": 26,
     "metadata": {},
     "output_type": "execute_result"
    },
    {
     "data": {
      "image/png": "[encoded data removed]",
      "text/plain": [
       "<Figure size 648x432 with 1 Axes>"
      ]
     },
     "metadata": {},
     "output_type": "display_data"
    }
   ],
   "source": [
    "# We display the average number of purchases.\n",
    "plt.figure(figsize = (9, 6))\n",
    "plt.bar(x = (0, 1, 2, 3), \n",
    "        tick_label = ('Standard','Career Focused','Fewer Opportunities','Well-off'),\n",
    "        height = segments_mean['Average_N_Purchases'], \n",
    "        yerr = segments_std['Average_N_Purchases'], \n",
    "        color = ('b', 'g', 'r', 'orange'))\n",
    "plt.xlabel('Segment')\n",
    "plt.ylabel('Purchase Incidences')\n",
    "plt.title('Average Number of Purchases by Segment')"
   ]
  },
  {
   "cell_type": "markdown",
   "metadata": {},
   "source": [
    "### ${\\textbf{Brand Choice}}$"
   ]
  },
  {
   "cell_type": "code",
   "execution_count": 27,
   "metadata": {},
   "outputs": [],
   "source": [
    "# Select only rows where incidence is one. In other words, we are only interested in the times a purchase was made.\n",
    "df_purchase_incidence = df_purchase_predictors[df_purchase_predictors['Incidence'] == 1]"
   ]
  },
  {
   "cell_type": "code",
   "execution_count": 28,
   "metadata": {},
   "outputs": [
    {
     "data": {
      "text/html": [
       "<div>\n",
       "<style scoped>\n",
       "    .dataframe tbody tr th:only-of-type {\n",
       "        vertical-align: middle;\n",
       "    }\n",
       "\n",
       "    .dataframe tbody tr th {\n",
       "        vertical-align: top;\n",
       "    }\n",
       "\n",
       "    .dataframe thead th {\n",
       "        text-align: right;\n",
       "    }\n",
       "</style>\n",
       "<table border=\"1\" class=\"dataframe\">\n",
       "  <thead>\n",
       "    <tr style=\"text-align: right;\">\n",
       "      <th></th>\n",
       "      <th>Brand_1</th>\n",
       "      <th>Brand_2</th>\n",
       "      <th>Brand_3</th>\n",
       "      <th>Brand_4</th>\n",
       "      <th>Brand_5</th>\n",
       "      <th>Segment</th>\n",
       "      <th>ID</th>\n",
       "    </tr>\n",
       "  </thead>\n",
       "  <tbody>\n",
       "    <tr>\n",
       "      <th>6</th>\n",
       "      <td>0</td>\n",
       "      <td>1</td>\n",
       "      <td>0</td>\n",
       "      <td>0</td>\n",
       "      <td>0</td>\n",
       "      <td>2</td>\n",
       "      <td>200000001</td>\n",
       "    </tr>\n",
       "    <tr>\n",
       "      <th>11</th>\n",
       "      <td>0</td>\n",
       "      <td>0</td>\n",
       "      <td>0</td>\n",
       "      <td>0</td>\n",
       "      <td>1</td>\n",
       "      <td>2</td>\n",
       "      <td>200000001</td>\n",
       "    </tr>\n",
       "    <tr>\n",
       "      <th>19</th>\n",
       "      <td>1</td>\n",
       "      <td>0</td>\n",
       "      <td>0</td>\n",
       "      <td>0</td>\n",
       "      <td>0</td>\n",
       "      <td>2</td>\n",
       "      <td>200000001</td>\n",
       "    </tr>\n",
       "    <tr>\n",
       "      <th>24</th>\n",
       "      <td>0</td>\n",
       "      <td>0</td>\n",
       "      <td>0</td>\n",
       "      <td>1</td>\n",
       "      <td>0</td>\n",
       "      <td>2</td>\n",
       "      <td>200000001</td>\n",
       "    </tr>\n",
       "    <tr>\n",
       "      <th>29</th>\n",
       "      <td>0</td>\n",
       "      <td>1</td>\n",
       "      <td>0</td>\n",
       "      <td>0</td>\n",
       "      <td>0</td>\n",
       "      <td>2</td>\n",
       "      <td>200000001</td>\n",
       "    </tr>\n",
       "    <tr>\n",
       "      <th>...</th>\n",
       "      <td>...</td>\n",
       "      <td>...</td>\n",
       "      <td>...</td>\n",
       "      <td>...</td>\n",
       "      <td>...</td>\n",
       "      <td>...</td>\n",
       "      <td>...</td>\n",
       "    </tr>\n",
       "    <tr>\n",
       "      <th>58621</th>\n",
       "      <td>0</td>\n",
       "      <td>1</td>\n",
       "      <td>0</td>\n",
       "      <td>0</td>\n",
       "      <td>0</td>\n",
       "      <td>2</td>\n",
       "      <td>200000500</td>\n",
       "    </tr>\n",
       "    <tr>\n",
       "      <th>58648</th>\n",
       "      <td>1</td>\n",
       "      <td>0</td>\n",
       "      <td>0</td>\n",
       "      <td>0</td>\n",
       "      <td>0</td>\n",
       "      <td>2</td>\n",
       "      <td>200000500</td>\n",
       "    </tr>\n",
       "    <tr>\n",
       "      <th>58674</th>\n",
       "      <td>0</td>\n",
       "      <td>1</td>\n",
       "      <td>0</td>\n",
       "      <td>0</td>\n",
       "      <td>0</td>\n",
       "      <td>2</td>\n",
       "      <td>200000500</td>\n",
       "    </tr>\n",
       "    <tr>\n",
       "      <th>58687</th>\n",
       "      <td>0</td>\n",
       "      <td>1</td>\n",
       "      <td>0</td>\n",
       "      <td>0</td>\n",
       "      <td>0</td>\n",
       "      <td>2</td>\n",
       "      <td>200000500</td>\n",
       "    </tr>\n",
       "    <tr>\n",
       "      <th>58691</th>\n",
       "      <td>0</td>\n",
       "      <td>1</td>\n",
       "      <td>0</td>\n",
       "      <td>0</td>\n",
       "      <td>0</td>\n",
       "      <td>2</td>\n",
       "      <td>200000500</td>\n",
       "    </tr>\n",
       "  </tbody>\n",
       "</table>\n",
       "<p>14638 rows × 7 columns</p>\n",
       "</div>"
      ],
      "text/plain": [
       "       Brand_1  Brand_2  Brand_3  Brand_4  Brand_5  Segment         ID\n",
       "6            0        1        0        0        0        2  200000001\n",
       "11           0        0        0        0        1        2  200000001\n",
       "19           1        0        0        0        0        2  200000001\n",
       "24           0        0        0        1        0        2  200000001\n",
       "29           0        1        0        0        0        2  200000001\n",
       "...        ...      ...      ...      ...      ...      ...        ...\n",
       "58621        0        1        0        0        0        2  200000500\n",
       "58648        1        0        0        0        0        2  200000500\n",
       "58674        0        1        0        0        0        2  200000500\n",
       "58687        0        1        0        0        0        2  200000500\n",
       "58691        0        1        0        0        0        2  200000500\n",
       "\n",
       "[14638 rows x 7 columns]"
      ]
     },
     "execution_count": 28,
     "metadata": {},
     "output_type": "execute_result"
    }
   ],
   "source": [
    "# Here we make dummies for each of the five brands.\n",
    "brand_dummies = pd.get_dummies(df_purchase_incidence['Brand'], prefix = 'Brand', prefix_sep = '_')\n",
    "brand_dummies['Segment'], brand_dummies['ID'] = df_purchase_incidence['Segment'], df_purchase_incidence['ID']\n",
    "brand_dummies"
   ]
  },
  {
   "cell_type": "code",
   "execution_count": 29,
   "metadata": {},
   "outputs": [],
   "source": [
    "temp = brand_dummies.groupby(['ID'], as_index = True).mean()"
   ]
  },
  {
   "cell_type": "code",
   "execution_count": 30,
   "metadata": {},
   "outputs": [],
   "source": [
    "mean_brand_choice = temp.groupby(['Segment'], as_index = True).mean()"
   ]
  },
  {
   "cell_type": "code",
   "execution_count": 31,
   "metadata": {},
   "outputs": [
    {
     "data": {
      "image/png": "[encoded data removed]",
      "text/plain": [
       "<Figure size 432x288 with 2 Axes>"
      ]
     },
     "metadata": {},
     "output_type": "display_data"
    }
   ],
   "source": [
    "sns.heatmap(mean_brand_choice,\n",
    "            vmin = 0, \n",
    "            vmax = 1,\n",
    "            cmap = 'PuBu',\n",
    "            annot = True)\n",
    "plt.yticks([0, 1, 2, 3], ['Standard', 'Career-Focused', 'Fewer-Opportunities', 'Well-Off'], rotation = 45, fontsize = 9)\n",
    "plt.title('Average Brand Choice by Segment')\n",
    "plt.show()"
   ]
  },
  {
   "cell_type": "markdown",
   "metadata": {},
   "source": [
    "### ${\\textbf{Revenue}}$"
   ]
  },
  {
   "cell_type": "code",
   "execution_count": 39,
   "metadata": {},
   "outputs": [
    {
     "data": {
      "text/html": [
       "<div>\n",
       "<style scoped>\n",
       "    .dataframe tbody tr th:only-of-type {\n",
       "        vertical-align: middle;\n",
       "    }\n",
       "\n",
       "    .dataframe tbody tr th {\n",
       "        vertical-align: top;\n",
       "    }\n",
       "\n",
       "    .dataframe thead th {\n",
       "        text-align: right;\n",
       "    }\n",
       "</style>\n",
       "<table border=\"1\" class=\"dataframe\">\n",
       "  <thead>\n",
       "    <tr style=\"text-align: right;\">\n",
       "      <th></th>\n",
       "      <th>Segment</th>\n",
       "      <th>Revenue Brand 1</th>\n",
       "    </tr>\n",
       "  </thead>\n",
       "  <tbody>\n",
       "    <tr>\n",
       "      <th>0</th>\n",
       "      <td>0</td>\n",
       "      <td>2611.19</td>\n",
       "    </tr>\n",
       "    <tr>\n",
       "      <th>1</th>\n",
       "      <td>1</td>\n",
       "      <td>736.09</td>\n",
       "    </tr>\n",
       "    <tr>\n",
       "      <th>2</th>\n",
       "      <td>2</td>\n",
       "      <td>2258.90</td>\n",
       "    </tr>\n",
       "    <tr>\n",
       "      <th>3</th>\n",
       "      <td>3</td>\n",
       "      <td>699.47</td>\n",
       "    </tr>\n",
       "  </tbody>\n",
       "</table>\n",
       "</div>"
      ],
      "text/plain": [
       "   Segment  Revenue Brand 1\n",
       "0        0          2611.19\n",
       "1        1           736.09\n",
       "2        2          2258.90\n",
       "3        3           699.47"
      ]
     },
     "execution_count": 39,
     "metadata": {},
     "output_type": "execute_result"
    }
   ],
   "source": [
    "temp = df_purchase_predictors[df_purchase_predictors['Brand'] == 1]\n",
    "temp.loc[:, 'Revenue Brand 1'] = temp['Price_1'] * temp['Quantity']\n",
    "segments_brand_revenue = pd.DataFrame()\n",
    "segments_brand_revenue[['Segment', 'Revenue Brand 1']] = temp[['Segment', 'Revenue Brand 1']].groupby(['Segment'], as_index = False).sum()\n",
    "segments_brand_revenue"
   ]
  },
  {
   "cell_type": "code",
   "execution_count": 33,
   "metadata": {},
   "outputs": [],
   "source": [
    "# Compute revenue for brand 2. We use the same formula, but here we filter our data to contain only purchases of brand 2.\n",
    "temp = df_purchase_predictors[df_purchase_predictors['Brand'] == 2]\n",
    "temp.loc[:, 'Revenue Brand 2'] = temp['Price_2'] * temp['Quantity']\n",
    "segments_brand_revenue[['Segment', 'Revenue Brand 2']] = temp[['Segment', 'Revenue Brand 2']].groupby(['Segment'], as_index = False).sum()"
   ]
  },
  {
   "cell_type": "code",
   "execution_count": 34,
   "metadata": {},
   "outputs": [],
   "source": [
    "# Compute revenue for brand 3\n",
    "temp = df_purchase_predictors[df_purchase_predictors['Brand'] == 3]\n",
    "temp.loc[:,'Revenue Brand 3'] = temp['Price_3']*temp['Quantity']\n",
    "segments_brand_revenue[['Segment','Revenue Brand 3']] = temp[['Revenue Brand 3','Segment']].groupby(['Segment'], as_index = False).sum()"
   ]
  },
  {
   "cell_type": "code",
   "execution_count": 35,
   "metadata": {},
   "outputs": [],
   "source": [
    "# Compute revenue for brand 4\n",
    "temp = df_purchase_predictors[df_purchase_predictors['Brand'] == 4]\n",
    "temp.loc[:,'Revenue Brand 4'] = temp['Price_4']*temp['Quantity']\n",
    "segments_brand_revenue[['Segment','Revenue Brand 4']] = temp[['Revenue Brand 4','Segment']].groupby(['Segment'], as_index = False).sum()"
   ]
  },
  {
   "cell_type": "code",
   "execution_count": 36,
   "metadata": {},
   "outputs": [],
   "source": [
    "# Compute revenue for brand 5\n",
    "temp = df_purchase_predictors[df_purchase_predictors['Brand'] == 5]\n",
    "temp.loc[:,'Revenue Brand 5'] = temp['Price_5']*temp['Quantity']\n",
    "segments_brand_revenue[['Segment','Revenue Brand 5']] = temp[['Revenue Brand 5','Segment']].groupby(['Segment'], as_index = False).sum()"
   ]
  },
  {
   "cell_type": "code",
   "execution_count": 37,
   "metadata": {},
   "outputs": [
    {
     "data": {
      "text/html": [
       "<div>\n",
       "<style scoped>\n",
       "    .dataframe tbody tr th:only-of-type {\n",
       "        vertical-align: middle;\n",
       "    }\n",
       "\n",
       "    .dataframe tbody tr th {\n",
       "        vertical-align: top;\n",
       "    }\n",
       "\n",
       "    .dataframe thead th {\n",
       "        text-align: right;\n",
       "    }\n",
       "</style>\n",
       "<table border=\"1\" class=\"dataframe\">\n",
       "  <thead>\n",
       "    <tr style=\"text-align: right;\">\n",
       "      <th></th>\n",
       "      <th>Segment</th>\n",
       "      <th>Revenue Brand 1</th>\n",
       "      <th>Revenue Brand 2</th>\n",
       "      <th>Revenue Brand 3</th>\n",
       "      <th>Revenue Brand 4</th>\n",
       "      <th>Revenue Brand 5</th>\n",
       "      <th>Total Revenue</th>\n",
       "    </tr>\n",
       "  </thead>\n",
       "  <tbody>\n",
       "    <tr>\n",
       "      <th>0</th>\n",
       "      <td>0</td>\n",
       "      <td>2611.19</td>\n",
       "      <td>4768.52</td>\n",
       "      <td>3909.17</td>\n",
       "      <td>861.38</td>\n",
       "      <td>2439.75</td>\n",
       "      <td>14590.01</td>\n",
       "    </tr>\n",
       "    <tr>\n",
       "      <th>1</th>\n",
       "      <td>1</td>\n",
       "      <td>736.09</td>\n",
       "      <td>1746.42</td>\n",
       "      <td>664.75</td>\n",
       "      <td>2363.84</td>\n",
       "      <td>19441.06</td>\n",
       "      <td>24952.16</td>\n",
       "    </tr>\n",
       "    <tr>\n",
       "      <th>2</th>\n",
       "      <td>2</td>\n",
       "      <td>2258.90</td>\n",
       "      <td>13955.14</td>\n",
       "      <td>716.25</td>\n",
       "      <td>1629.31</td>\n",
       "      <td>2230.50</td>\n",
       "      <td>20790.10</td>\n",
       "    </tr>\n",
       "    <tr>\n",
       "      <th>3</th>\n",
       "      <td>3</td>\n",
       "      <td>699.47</td>\n",
       "      <td>1298.23</td>\n",
       "      <td>731.35</td>\n",
       "      <td>14185.57</td>\n",
       "      <td>5509.69</td>\n",
       "      <td>22424.31</td>\n",
       "    </tr>\n",
       "  </tbody>\n",
       "</table>\n",
       "</div>"
      ],
      "text/plain": [
       "   Segment  Revenue Brand 1  Revenue Brand 2  Revenue Brand 3  \\\n",
       "0        0          2611.19          4768.52          3909.17   \n",
       "1        1           736.09          1746.42           664.75   \n",
       "2        2          2258.90         13955.14           716.25   \n",
       "3        3           699.47          1298.23           731.35   \n",
       "\n",
       "   Revenue Brand 4  Revenue Brand 5  Total Revenue  \n",
       "0           861.38          2439.75       14590.01  \n",
       "1          2363.84         19441.06       24952.16  \n",
       "2          1629.31          2230.50       20790.10  \n",
       "3         14185.57          5509.69       22424.31  "
      ]
     },
     "execution_count": 37,
     "metadata": {},
     "output_type": "execute_result"
    }
   ],
   "source": [
    "# We compute the total revenue for each of the segments. We simply sum the revenue for each of the five brands.\n",
    "segments_brand_revenue['Total Revenue'] = (segments_brand_revenue['Revenue Brand 1'] +\n",
    "                                           segments_brand_revenue['Revenue Brand 2'] +\n",
    "                                           segments_brand_revenue['Revenue Brand 3'] +\n",
    "                                           segments_brand_revenue['Revenue Brand 4'] +\n",
    "                                           segments_brand_revenue['Revenue Brand 5'] )\n",
    "segments_brand_revenue"
   ]
  },
  {
   "cell_type": "code",
   "execution_count": 38,
   "metadata": {},
   "outputs": [
    {
     "data": {
      "text/html": [
       "<div>\n",
       "<style scoped>\n",
       "    .dataframe tbody tr th:only-of-type {\n",
       "        vertical-align: middle;\n",
       "    }\n",
       "\n",
       "    .dataframe tbody tr th {\n",
       "        vertical-align: top;\n",
       "    }\n",
       "\n",
       "    .dataframe thead th {\n",
       "        text-align: right;\n",
       "    }\n",
       "</style>\n",
       "<table border=\"1\" class=\"dataframe\">\n",
       "  <thead>\n",
       "    <tr style=\"text-align: right;\">\n",
       "      <th></th>\n",
       "      <th>Revenue Brand 1</th>\n",
       "      <th>Revenue Brand 2</th>\n",
       "      <th>Revenue Brand 3</th>\n",
       "      <th>Revenue Brand 4</th>\n",
       "      <th>Revenue Brand 5</th>\n",
       "      <th>Total Revenue</th>\n",
       "      <th>Segment Proportions</th>\n",
       "    </tr>\n",
       "    <tr>\n",
       "      <th>Segment</th>\n",
       "      <th></th>\n",
       "      <th></th>\n",
       "      <th></th>\n",
       "      <th></th>\n",
       "      <th></th>\n",
       "      <th></th>\n",
       "      <th></th>\n",
       "    </tr>\n",
       "  </thead>\n",
       "  <tbody>\n",
       "    <tr>\n",
       "      <th>Standard</th>\n",
       "      <td>2611.19</td>\n",
       "      <td>4768.52</td>\n",
       "      <td>3909.17</td>\n",
       "      <td>861.38</td>\n",
       "      <td>2439.75</td>\n",
       "      <td>14590.01</td>\n",
       "      <td>0.206</td>\n",
       "    </tr>\n",
       "    <tr>\n",
       "      <th>Career-Focused</th>\n",
       "      <td>736.09</td>\n",
       "      <td>1746.42</td>\n",
       "      <td>664.75</td>\n",
       "      <td>2363.84</td>\n",
       "      <td>19441.06</td>\n",
       "      <td>24952.16</td>\n",
       "      <td>0.220</td>\n",
       "    </tr>\n",
       "    <tr>\n",
       "      <th>Fewer-Opportunities</th>\n",
       "      <td>2258.90</td>\n",
       "      <td>13955.14</td>\n",
       "      <td>716.25</td>\n",
       "      <td>1629.31</td>\n",
       "      <td>2230.50</td>\n",
       "      <td>20790.10</td>\n",
       "      <td>0.378</td>\n",
       "    </tr>\n",
       "    <tr>\n",
       "      <th>Well-Off</th>\n",
       "      <td>699.47</td>\n",
       "      <td>1298.23</td>\n",
       "      <td>731.35</td>\n",
       "      <td>14185.57</td>\n",
       "      <td>5509.69</td>\n",
       "      <td>22424.31</td>\n",
       "      <td>0.196</td>\n",
       "    </tr>\n",
       "  </tbody>\n",
       "</table>\n",
       "</div>"
      ],
      "text/plain": [
       "                     Revenue Brand 1  Revenue Brand 2  Revenue Brand 3  \\\n",
       "Segment                                                                  \n",
       "Standard                     2611.19          4768.52          3909.17   \n",
       "Career-Focused                736.09          1746.42           664.75   \n",
       "Fewer-Opportunities          2258.90         13955.14           716.25   \n",
       "Well-Off                      699.47          1298.23           731.35   \n",
       "\n",
       "                     Revenue Brand 4  Revenue Brand 5  Total Revenue  \\\n",
       "Segment                                                                \n",
       "Standard                      861.38          2439.75       14590.01   \n",
       "Career-Focused               2363.84         19441.06       24952.16   \n",
       "Fewer-Opportunities          1629.31          2230.50       20790.10   \n",
       "Well-Off                    14185.57          5509.69       22424.31   \n",
       "\n",
       "                     Segment Proportions  \n",
       "Segment                                   \n",
       "Standard                           0.206  \n",
       "Career-Focused                     0.220  \n",
       "Fewer-Opportunities                0.378  \n",
       "Well-Off                           0.196  "
      ]
     },
     "execution_count": 38,
     "metadata": {},
     "output_type": "execute_result"
    }
   ],
   "source": [
    "# We further modify our table to include the segment proportions. \n",
    "# It is interesting to see the size of the segment compared to the revenue they bring.\n",
    "# We also add the labels for the segments.s\n",
    "segments_brand_revenue['Segment Proportions'] = segm_prop['Segment Proportions']\n",
    "segments_brand_revenue['Segment'] = segments_brand_revenue['Segment'].map({0:'Standard',\n",
    "                                                                           1:'Career-Focused',\n",
    "                                                                           2:'Fewer-Opportunities',\n",
    "                                                                           3:'Well-Off'})\n",
    "segments_brand_revenue = segments_brand_revenue.set_index(['Segment'])\n",
    "segments_brand_revenue"
   ]
  }
 ],
 "metadata": {
  "kernelspec": {
   "display_name": "Python 3",
   "language": "python",
   "name": "python3"
  },
  "language_info": {
   "codemirror_mode": {
    "name": "ipython",
    "version": 3
   },
   "file_extension": ".py",
   "mimetype": "text/x-python",
   "name": "python",
   "nbconvert_exporter": "python",
   "pygments_lexer": "ipython3",
   "version": "3.6.10"
  }
 },
 "nbformat": 4,
 "nbformat_minor": 4
}
